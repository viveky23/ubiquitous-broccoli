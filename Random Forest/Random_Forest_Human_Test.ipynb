{
 "cells": [
  {
   "cell_type": "code",
   "execution_count": 1,
   "metadata": {},
   "outputs": [],
   "source": [
    "import pickle\n",
    "import pandas as pd"
   ]
  },
  {
   "cell_type": "code",
   "execution_count": 2,
   "metadata": {},
   "outputs": [],
   "source": [
    "file_name_train_250 = \"../Human Experiments/Data/RL_trajectories_250.pickle\"\n",
    "file_obj_train_250 = open(file_name_train_250, 'rb')\n",
    "trajectories_train_250 = pickle.load(file_obj_train_250)\n",
    "trajectories_train_250 = [list(ele) for ele in trajectories_train_250]\n",
    "\n",
    "file_name_test_250 = \"../Human Experiments/Data/Human_trajectories_test_250.pickle\"\n",
    "file_obj_test_250 = open(file_name_test_250, 'rb')\n",
    "trajectories_test_250 = pickle.load(file_obj_test_250)\n",
    "trajectories_test_250 = [list(ele) for ele in trajectories_test_250]\n",
    "\n",
    "file_name_train_500 = \"../Human Experiments/Data/RL_trajectories_500.pickle\"\n",
    "file_obj_train_500 = open(file_name_train_500, 'rb')\n",
    "trajectories_train_500 = pickle.load(file_obj_train_500)\n",
    "trajectories_train_500 = [list(ele) for ele in trajectories_train_500]\n",
    "\n",
    "file_name_test_500 = \"../Human Experiments/Data/Human_trajectories_test_500.pickle\"\n",
    "file_obj_test_500 = open(file_name_test_500, 'rb')\n",
    "trajectories_test_500 = pickle.load(file_obj_test_500)\n",
    "trajectories_test_500 = [list(ele) for ele in trajectories_test_500]\n",
    "\n",
    "test_size = 60"
   ]
  },
  {
   "cell_type": "code",
   "execution_count": 3,
   "metadata": {},
   "outputs": [],
   "source": [
    "def create_train(trajectories_train):\n",
    "    data_train = []\n",
    "    for idxt, trajectory in enumerate(trajectories_train):\n",
    "        min_price_index = trajectory.index(min(trajectory))\n",
    "        trajectory_number = idxt\n",
    "        for idxd, day in enumerate(trajectory):\n",
    "            if(idxd <= min_price_index): \n",
    "\n",
    "                price = day\n",
    "                if(idxd == min_price_index):\n",
    "                    label = 1\n",
    "                else:\n",
    "                    label = 0\n",
    "                data_train.append((trajectory_number, idxd, price, label))\n",
    "            else:\n",
    "                break\n",
    "    return data_train"
   ]
  },
  {
   "cell_type": "code",
   "execution_count": 4,
   "metadata": {},
   "outputs": [],
   "source": [
    "def create_test(trajectories_test):\n",
    "    data_test = []\n",
    "    for idxt, trajectory in enumerate(trajectories_test):\n",
    "        min_price_index = trajectory.index(min(trajectory))\n",
    "        trajectory_number = idxt\n",
    "        for idxd, day in enumerate(trajectory):\n",
    "            price = day\n",
    "            if(idxd == min_price_index):\n",
    "                label = 1\n",
    "            else:\n",
    "                label = 0\n",
    "            data_test.append((trajectory_number, idxd, price, label))\n",
    "    return data_test"
   ]
  },
  {
   "cell_type": "code",
   "execution_count": 5,
   "metadata": {},
   "outputs": [],
   "source": [
    "data_train_250 = create_train(trajectories_train_250)\n",
    "data_test_250 = create_test(trajectories_test_250)\n",
    "data_train_500 = create_train(trajectories_train_500)\n",
    "data_test_500 = create_test(trajectories_test_500)"
   ]
  },
  {
   "cell_type": "code",
   "execution_count": 6,
   "metadata": {},
   "outputs": [],
   "source": [
    "dataframe_train_250 = pd.DataFrame(data_train_250, columns = ['trajectory_number','my_index' , 'price', 'label'])\n",
    "dataframe_test_250 = pd.DataFrame(data_test_250, columns = ['trajectory_number','my_index' , 'price', 'label'])\n",
    "\n",
    "dataframe_train_500 = pd.DataFrame(data_train_500, columns = ['trajectory_number','my_index' , 'price', 'label'])\n",
    "dataframe_test_500 = pd.DataFrame(data_test_500, columns = ['trajectory_number','my_index' , 'price', 'label'])"
   ]
  },
  {
   "cell_type": "code",
   "execution_count": 7,
   "metadata": {},
   "outputs": [],
   "source": [
    "Y_train_250 = dataframe_train_250.label\n",
    "Y_test_250 = dataframe_test_250.label\n",
    "\n",
    "Y_train_500 = dataframe_train_500.label\n",
    "Y_test_500 = dataframe_test_500.label"
   ]
  },
  {
   "cell_type": "code",
   "execution_count": 8,
   "metadata": {},
   "outputs": [],
   "source": [
    "X_train_250 = dataframe_train_250.drop(\"label\", axis=1)\n",
    "X_test_250 = dataframe_test_250.drop(\"label\", axis=1)\n",
    "\n",
    "X_train_500 = dataframe_train_500.drop(\"label\", axis=1)\n",
    "X_test_500 = dataframe_test_500.drop(\"label\", axis=1)"
   ]
  },
  {
   "cell_type": "markdown",
   "metadata": {},
   "source": [
    "## Random Forest Classifier"
   ]
  },
  {
   "cell_type": "code",
   "execution_count": 9,
   "metadata": {},
   "outputs": [],
   "source": [
    "from sklearn.ensemble import RandomForestClassifier"
   ]
  },
  {
   "cell_type": "code",
   "execution_count": 10,
   "metadata": {},
   "outputs": [
    {
     "name": "stdout",
     "output_type": "stream",
     "text": [
      "Accuracy 250:  0.8355555555555556\n",
      "Accuracy 500:  0.8644444444444445\n"
     ]
    }
   ],
   "source": [
    "classifier_250 = RandomForestClassifier(n_estimators=100).fit(X_train_250,Y_train_250)\n",
    "print(\"Accuracy 250: \", classifier_250.score(X_test_250, Y_test_250))\n",
    "\n",
    "classifier_500 = RandomForestClassifier(n_estimators=100).fit(X_train_500,Y_train_500)\n",
    "print(\"Accuracy 500: \", classifier_500.score(X_test_500, Y_test_500))\n"
   ]
  },
  {
   "cell_type": "code",
   "execution_count": 11,
   "metadata": {},
   "outputs": [],
   "source": [
    "predictions_250 = list(classifier_250.predict(X_test_250))\n",
    "X_test_250['predictions'] = predictions_250\n",
    "X_test_250['true_labels'] = Y_test_250\n",
    "\n",
    "predictions_500 = list(classifier_500.predict(X_test_500))\n",
    "X_test_500['predictions'] = predictions_500\n",
    "X_test_500['true_labels'] = Y_test_500"
   ]
  },
  {
   "cell_type": "code",
   "execution_count": 12,
   "metadata": {},
   "outputs": [],
   "source": [
    "def get_final_output(dataframe):\n",
    "    final_output = []\n",
    "    for trajectory in range(test_size):\n",
    "        current = dataframe.loc[(dataframe['trajectory_number'] == trajectory) & (dataframe['predictions'] == 1)]\n",
    "        if(len(current.index) == 0):\n",
    "            picked = dataframe.loc[(dataframe['trajectory_number'] == trajectory) & (dataframe['index'] == 14)]\n",
    "            picked_tuple = (picked.price.values[0], int(picked.my_index.values[0]))\n",
    "        else:\n",
    "            picked = current.iloc[0]\n",
    "            picked_tuple = (picked.price, int(picked.my_index))\n",
    "        final_output.append(picked_tuple)    \n",
    "    return final_output"
   ]
  },
  {
   "cell_type": "code",
   "execution_count": 13,
   "metadata": {},
   "outputs": [],
   "source": [
    "final_output_250 = get_final_output(X_test_250)\n",
    "final_output_500 = get_final_output(X_test_500)\n",
    "final_output = [final_output_250, final_output_500]"
   ]
  },
  {
   "cell_type": "code",
   "execution_count": 14,
   "metadata": {},
   "outputs": [
    {
     "data": {
      "text/plain": [
       "[[(276.0, 14),\n",
       "  (246.0, 14),\n",
       "  (229.0, 13),\n",
       "  (249.0, 14),\n",
       "  (213.0, 14),\n",
       "  (186.0, 4),\n",
       "  (265.0, 14),\n",
       "  (194.0, 5),\n",
       "  (232.0, 10),\n",
       "  (277.0, 14),\n",
       "  (187.0, 0),\n",
       "  (282.0, 14),\n",
       "  (276.0, 14),\n",
       "  (199.0, 7),\n",
       "  (215.0, 9),\n",
       "  (226.0, 8),\n",
       "  (226.0, 11),\n",
       "  (191.0, 2),\n",
       "  (287.0, 14),\n",
       "  (204.0, 3),\n",
       "  (219.0, 6),\n",
       "  (216.0, 2),\n",
       "  (257.0, 14),\n",
       "  (210.0, 9),\n",
       "  (185.0, 2),\n",
       "  (233.0, 14),\n",
       "  (224.0, 11),\n",
       "  (223.0, 2),\n",
       "  (223.0, 10),\n",
       "  (287.0, 14),\n",
       "  (192.0, 5),\n",
       "  (226.0, 2),\n",
       "  (226.0, 10),\n",
       "  (226.0, 12),\n",
       "  (250.0, 14),\n",
       "  (219.0, 14),\n",
       "  (269.0, 14),\n",
       "  (220.0, 1),\n",
       "  (203.0, 1),\n",
       "  (279.0, 14),\n",
       "  (233.0, 13),\n",
       "  (209.0, 14),\n",
       "  (239.0, 14),\n",
       "  (209.0, 9),\n",
       "  (215.0, 13),\n",
       "  (264.0, 14),\n",
       "  (274.0, 14),\n",
       "  (204.0, 11),\n",
       "  (211.0, 9),\n",
       "  (186.0, 4),\n",
       "  (184.0, 2),\n",
       "  (211.0, 1),\n",
       "  (186.0, 0),\n",
       "  (229.0, 14),\n",
       "  (230.0, 14),\n",
       "  (192.0, 1),\n",
       "  (165.0, 3),\n",
       "  (258.0, 14),\n",
       "  (237.0, 1),\n",
       "  (188.0, 8)],\n",
       " [(377.0, 2),\n",
       "  (445.0, 10),\n",
       "  (476.0, 14),\n",
       "  (404.0, 4),\n",
       "  (417.0, 4),\n",
       "  (478.0, 14),\n",
       "  (415.0, 11),\n",
       "  (422.0, 11),\n",
       "  (411.0, 2),\n",
       "  (410.0, 9),\n",
       "  (386.0, 8),\n",
       "  (420.0, 10),\n",
       "  (520.0, 14),\n",
       "  (571.0, 14),\n",
       "  (415.0, 6),\n",
       "  (497.0, 14),\n",
       "  (504.0, 14),\n",
       "  (423.0, 4),\n",
       "  (285.0, 6),\n",
       "  (491.0, 14),\n",
       "  (588.0, 14),\n",
       "  (404.0, 2),\n",
       "  (389.0, 1),\n",
       "  (374.0, 5),\n",
       "  (425.0, 11),\n",
       "  (428.0, 11),\n",
       "  (430.0, 14),\n",
       "  (362.0, 2),\n",
       "  (427.0, 3),\n",
       "  (435.0, 11),\n",
       "  (519.0, 14),\n",
       "  (593.0, 14),\n",
       "  (381.0, 14),\n",
       "  (403.0, 11),\n",
       "  (458.0, 10),\n",
       "  (335.0, 0),\n",
       "  (395.0, 5),\n",
       "  (371.0, 1),\n",
       "  (553.0, 14),\n",
       "  (410.0, 4),\n",
       "  (411.0, 1),\n",
       "  (604.0, 14),\n",
       "  (389.0, 5),\n",
       "  (449.0, 14),\n",
       "  (558.0, 14),\n",
       "  (488.0, 14),\n",
       "  (430.0, 3),\n",
       "  (468.0, 3),\n",
       "  (400.0, 8),\n",
       "  (374.0, 5),\n",
       "  (424.0, 11),\n",
       "  (498.0, 14),\n",
       "  (413.0, 4),\n",
       "  (458.0, 9),\n",
       "  (426.0, 3),\n",
       "  (443.0, 11),\n",
       "  (493.0, 14),\n",
       "  (593.0, 14),\n",
       "  (441.0, 10),\n",
       "  (458.0, 8)]]"
      ]
     },
     "execution_count": 14,
     "metadata": {},
     "output_type": "execute_result"
    }
   ],
   "source": [
    "final_output"
   ]
  },
  {
   "cell_type": "code",
   "execution_count": 15,
   "metadata": {},
   "outputs": [],
   "source": [
    "final_output_file_name = \"../Human Experiments/Tests/random_forest\"\n",
    "final_file_object = open(final_output_file_name, 'wb')\n",
    "pickle.dump(final_output, final_file_object)\n",
    "final_file_object.close()"
   ]
  },
  {
   "cell_type": "code",
   "execution_count": null,
   "metadata": {},
   "outputs": [],
   "source": []
  }
 ],
 "metadata": {
  "kernelspec": {
   "display_name": "Python 3",
   "language": "python",
   "name": "python3"
  },
  "language_info": {
   "codemirror_mode": {
    "name": "ipython",
    "version": 3
   },
   "file_extension": ".py",
   "mimetype": "text/x-python",
   "name": "python",
   "nbconvert_exporter": "python",
   "pygments_lexer": "ipython3",
   "version": "3.6.4"
  }
 },
 "nbformat": 4,
 "nbformat_minor": 2
}
