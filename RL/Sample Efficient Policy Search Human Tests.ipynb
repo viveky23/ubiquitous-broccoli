{
 "cells": [
  {
   "cell_type": "code",
   "execution_count": 41,
   "metadata": {},
   "outputs": [],
   "source": [
    "import pickle\n",
    "from statistics import mean"
   ]
  },
  {
   "cell_type": "code",
   "execution_count": 42,
   "metadata": {},
   "outputs": [],
   "source": [
    "file_name_train_250 = \"../Human Experiments/Data/RL_trajectories_250.pickle\"\n",
    "file_obj_train_250 = open(file_name_train_250, 'rb')\n",
    "trajectories_train_250 = pickle.load(file_obj_train_250)\n",
    "trajectories_train_250 = [list(ele) for ele in trajectories_train_250]\n",
    "\n",
    "file_name_test_250 = \"../Human Experiments/Data/Human_trajectories_test_250.pickle\"\n",
    "file_obj_test_250 = open(file_name_test_250, 'rb')\n",
    "trajectories_test_250 = pickle.load(file_obj_test_250)\n",
    "trajectories_test_250 = [list(ele) for ele in trajectories_test_250]\n",
    "\n",
    "file_name_train_500 = \"../Human Experiments/Data/RL_trajectories_500.pickle\"\n",
    "file_obj_train_500 = open(file_name_train_500, 'rb')\n",
    "trajectories_train_500 = pickle.load(file_obj_train_500)\n",
    "trajectories_train_500 = [list(ele) for ele in trajectories_train_500]\n",
    "\n",
    "file_name_test_500 = \"../Human Experiments/Data/Human_trajectories_test_500.pickle\"\n",
    "file_obj_test_500 = open(file_name_test_500, 'rb')\n",
    "trajectories_test_500 = pickle.load(file_obj_test_500)\n",
    "trajectories_test_500 = [list(ele) for ele in trajectories_test_500]\n",
    "\n",
    "test_size = 60"
   ]
  },
  {
   "cell_type": "code",
   "execution_count": 43,
   "metadata": {},
   "outputs": [],
   "source": [
    "def generate_policies(price_range, days_range):\n",
    "    policies = []\n",
    "    for i in range(price_range, 5):\n",
    "        for j in range(days_range):\n",
    "            policy = (i, j)\n",
    "            policies.append(policy)\n",
    "    return policies"
   ]
  },
  {
   "cell_type": "code",
   "execution_count": 44,
   "metadata": {},
   "outputs": [],
   "source": [
    "def get_sample_returns(trajectories): \n",
    "    horizon = len(trajectories[0])\n",
    "    sample_returns = [[] for x in range(horizon)]\n",
    "    for trajectory in trajectories:\n",
    "        for i in range(len(trajectory)):\n",
    "            if trajectory[i] == 0:\n",
    "                continue\n",
    "            else:\n",
    "                days_left = horizon - i - 1\n",
    "                sample_returns[days_left].append(trajectory[i])\n",
    "    return sample_returns"
   ]
  },
  {
   "cell_type": "code",
   "execution_count": 45,
   "metadata": {},
   "outputs": [],
   "source": [
    "def policy_search(train_data):\n",
    "    sample_returns = get_sample_returns(train_data)\n",
    "    sample_returns = [mean(x) for x in sample_returns]\n",
    "    return (min(sample_returns), sample_returns.index(min(sample_returns)))"
   ]
  },
  {
   "cell_type": "code",
   "execution_count": 46,
   "metadata": {},
   "outputs": [],
   "source": [
    "def bought_and_best(test_data, optimal_policy):\n",
    "    bought = []\n",
    "    best = []\n",
    "    for ele in test_data:\n",
    "        best_bet = (min(ele), 59 - ele.index(min(ele)))\n",
    "        best.append(best_bet)\n",
    "        for i in range(len(ele)):\n",
    "            if(i == len(ele) - 1):\n",
    "                bought.append((ele[i], i))\n",
    "                break\n",
    "            elif(ele[i] > optimal_policy[0] and (59 - i) > optimal_policy[1]):\n",
    "                continue\n",
    "            else:\n",
    "                bought.append((ele[i], i))\n",
    "                break\n",
    "    \n",
    "    return bought, best"
   ]
  },
  {
   "cell_type": "code",
   "execution_count": 47,
   "metadata": {},
   "outputs": [],
   "source": [
    "def test(test_data, optimal_policy):\n",
    "    bought, best = bought_and_best(test_data, optimal_policy)\n",
    "    print(len(bought))\n",
    "    print(len(best))\n",
    "    diff = [] \n",
    "    for i in range(len(bought)):\n",
    "        bought_price = bought[i][0]\n",
    "        best_price = best[i][0]\n",
    "        diff.append(bought_price - best_price)\n",
    "    return(mean(diff))"
   ]
  },
  {
   "cell_type": "code",
   "execution_count": 49,
   "metadata": {},
   "outputs": [
    {
     "name": "stdout",
     "output_type": "stream",
     "text": [
      "(246.01666666666668, 0)\n",
      "60\n",
      "60\n",
      "24.866666666666667\n"
     ]
    }
   ],
   "source": [
    "optimal_policy_250 = policy_search(trajectories_test_250)\n",
    "print(optimal_policy_250)\n",
    "diff = test(trajectories_test_250, optimal_policy_250)\n",
    "print(diff)\n",
    "\n",
    "bought_250, best_250 = bought_and_best(trajectories_test_250, optimal_policy_250)\n",
    "final_output_250 = bought_250"
   ]
  },
  {
   "cell_type": "code",
   "execution_count": 51,
   "metadata": {},
   "outputs": [
    {
     "name": "stdout",
     "output_type": "stream",
     "text": [
      "(483.23333333333335, 3)\n",
      "60\n",
      "60\n",
      "39.95\n"
     ]
    }
   ],
   "source": [
    "optimal_policy_500 = policy_search(trajectories_test_500)\n",
    "print(optimal_policy_500)\n",
    "diff = test(trajectories_test_500, optimal_policy_500)\n",
    "print(diff)\n",
    "\n",
    "bought_500, best_500 = bought_and_best(trajectories_test_500, optimal_policy_500)\n",
    "final_output_500 = bought_500"
   ]
  },
  {
   "cell_type": "code",
   "execution_count": 53,
   "metadata": {},
   "outputs": [],
   "source": [
    "final_output = [final_output_250, final_output_500]"
   ]
  },
  {
   "cell_type": "code",
   "execution_count": 54,
   "metadata": {},
   "outputs": [
    {
     "data": {
      "text/plain": [
       "[[(276.0, 14),\n",
       "  (236.0, 0),\n",
       "  (237.0, 4),\n",
       "  (228.0, 0),\n",
       "  (234.0, 0),\n",
       "  (220.0, 0),\n",
       "  (245.0, 1),\n",
       "  (226.0, 1),\n",
       "  (220.0, 0),\n",
       "  (236.0, 2),\n",
       "  (187.0, 0),\n",
       "  (229.0, 0),\n",
       "  (236.0, 6),\n",
       "  (222.0, 1),\n",
       "  (238.0, 1),\n",
       "  (245.0, 0),\n",
       "  (242.0, 6),\n",
       "  (237.0, 0),\n",
       "  (239.0, 0),\n",
       "  (245.0, 0),\n",
       "  (238.0, 1),\n",
       "  (231.0, 0),\n",
       "  (227.0, 1),\n",
       "  (218.0, 0),\n",
       "  (218.0, 0),\n",
       "  (235.0, 4),\n",
       "  (242.0, 3),\n",
       "  (239.0, 0),\n",
       "  (243.0, 1),\n",
       "  (287.0, 14),\n",
       "  (214.0, 1),\n",
       "  (244.0, 0),\n",
       "  (224.0, 0),\n",
       "  (227.0, 0),\n",
       "  (227.0, 2),\n",
       "  (240.0, 5),\n",
       "  (241.0, 5),\n",
       "  (243.0, 0),\n",
       "  (220.0, 0),\n",
       "  (245.0, 1),\n",
       "  (229.0, 2),\n",
       "  (243.0, 0),\n",
       "  (232.0, 1),\n",
       "  (243.0, 4),\n",
       "  (212.0, 1),\n",
       "  (229.0, 5),\n",
       "  (212.0, 2),\n",
       "  (231.0, 1),\n",
       "  (242.0, 4),\n",
       "  (245.0, 1),\n",
       "  (239.0, 0),\n",
       "  (211.0, 1),\n",
       "  (186.0, 0),\n",
       "  (234.0, 7),\n",
       "  (219.0, 0),\n",
       "  (218.0, 0),\n",
       "  (219.0, 0),\n",
       "  (238.0, 4),\n",
       "  (242.0, 0),\n",
       "  (237.0, 3)],\n",
       " [(445.0, 0),\n",
       "  (483.0, 4),\n",
       "  (476.0, 14),\n",
       "  (442.0, 3),\n",
       "  (480.0, 2),\n",
       "  (437.0, 4),\n",
       "  (474.0, 1),\n",
       "  (479.0, 3),\n",
       "  (448.0, 0),\n",
       "  (459.0, 0),\n",
       "  (483.0, 2),\n",
       "  (477.0, 5),\n",
       "  (459.0, 0),\n",
       "  (475.0, 2),\n",
       "  (483.0, 0),\n",
       "  (422.0, 3),\n",
       "  (477.0, 2),\n",
       "  (454.0, 0),\n",
       "  (476.0, 1),\n",
       "  (461.0, 2),\n",
       "  (423.0, 2),\n",
       "  (404.0, 2),\n",
       "  (389.0, 1),\n",
       "  (441.0, 0),\n",
       "  (433.0, 0),\n",
       "  (469.0, 0),\n",
       "  (443.0, 3),\n",
       "  (436.0, 1),\n",
       "  (427.0, 3),\n",
       "  (482.0, 0),\n",
       "  (464.0, 1),\n",
       "  (480.0, 0),\n",
       "  (466.0, 0),\n",
       "  (430.0, 0),\n",
       "  (482.0, 1),\n",
       "  (335.0, 0),\n",
       "  (412.0, 0),\n",
       "  (371.0, 1),\n",
       "  (474.0, 13),\n",
       "  (468.0, 0),\n",
       "  (451.0, 0),\n",
       "  (448.0, 2),\n",
       "  (453.0, 1),\n",
       "  (449.0, 14),\n",
       "  (458.0, 4),\n",
       "  (474.0, 11),\n",
       "  (474.0, 0),\n",
       "  (468.0, 0),\n",
       "  (467.0, 6),\n",
       "  (462.0, 1),\n",
       "  (461.0, 0),\n",
       "  (446.0, 5),\n",
       "  (436.0, 2),\n",
       "  (453.0, 2),\n",
       "  (443.0, 1),\n",
       "  (432.0, 1),\n",
       "  (466.0, 7),\n",
       "  (477.0, 0),\n",
       "  (458.0, 1),\n",
       "  (459.0, 0)]]"
      ]
     },
     "execution_count": 54,
     "metadata": {},
     "output_type": "execute_result"
    }
   ],
   "source": [
    "final_output"
   ]
  },
  {
   "cell_type": "code",
   "execution_count": 55,
   "metadata": {},
   "outputs": [],
   "source": [
    "final_output_file_name = \"final_output_basic_RL.pickle\"\n",
    "final_file_object = open(final_output_file_name, 'wb')\n",
    "pickle.dump(final_output, final_file_object)\n",
    "final_file_object.close()"
   ]
  },
  {
   "cell_type": "code",
   "execution_count": null,
   "metadata": {},
   "outputs": [],
   "source": []
  }
 ],
 "metadata": {
  "kernelspec": {
   "display_name": "Python 3",
   "language": "python",
   "name": "python3"
  },
  "language_info": {
   "codemirror_mode": {
    "name": "ipython",
    "version": 3
   },
   "file_extension": ".py",
   "mimetype": "text/x-python",
   "name": "python",
   "nbconvert_exporter": "python",
   "pygments_lexer": "ipython3",
   "version": "3.6.4"
  }
 },
 "nbformat": 4,
 "nbformat_minor": 2
}
