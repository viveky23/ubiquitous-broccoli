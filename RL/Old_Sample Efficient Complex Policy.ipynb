{
 "cells": [
  {
   "cell_type": "code",
   "execution_count": 1,
   "metadata": {},
   "outputs": [],
   "source": [
    "import pickle\n",
    "from statistics import mean\n",
    "import numpy as np\n",
    "import sys"
   ]
  },
  {
   "cell_type": "code",
   "execution_count": 2,
   "metadata": {},
   "outputs": [],
   "source": [
    "file_name_train_250 = \"../Human Experiments/Data/RL_trajectories_250.pickle\"\n",
    "file_obj_train_250 = open(file_name_train_250, 'rb')\n",
    "trajectories_train_250 = pickle.load(file_obj_train_250)\n",
    "trajectories_train_250 = [list(ele) for ele in trajectories_train_250]\n",
    "\n",
    "file_name_test_250 = \"../Human Experiments/Data/Human_trajectories_test_250.pickle\"\n",
    "file_obj_test_250 = open(file_name_test_250, 'rb')\n",
    "trajectories_test_250 = pickle.load(file_obj_test_250)\n",
    "trajectories_test_250 = [list(ele) for ele in trajectories_test_250]\n",
    "\n",
    "file_name_train_500 = \"../Human Experiments/Data/RL_trajectories_500.pickle\"\n",
    "file_obj_train_500 = open(file_name_train_500, 'rb')\n",
    "trajectories_train_500 = pickle.load(file_obj_train_500)\n",
    "trajectories_train_500 = [list(ele) for ele in trajectories_train_500]\n",
    "\n",
    "file_name_test_500 = \"../Human Experiments/Data/Human_trajectories_test_500.pickle\"\n",
    "file_obj_test_500 = open(file_name_test_500, 'rb')\n",
    "trajectories_test_500 = pickle.load(file_obj_test_500)\n",
    "trajectories_test_500 = [list(ele) for ele in trajectories_test_500]\n",
    "\n",
    "test_size = 60"
   ]
  },
  {
   "cell_type": "code",
   "execution_count": 3,
   "metadata": {},
   "outputs": [],
   "source": [
    "def generate_policies(price_low_bound, price_upper_bound):\n",
    "    policies = []\n",
    "    for i in range(price_low_bound, price_upper_bound, 10):\n",
    "        for j in range(price_low_bound, price_upper_bound, 10):\n",
    "            for k in range(price_low_bound, price_upper_bound, 10):\n",
    "                for l in range(5):\n",
    "                    for m in range(5):\n",
    "                        for n in range(5):\n",
    "                            policy = (i, j, k, l, m, n)\n",
    "                            policies.append(policy)\n",
    "    return policies"
   ]
  },
  {
   "cell_type": "code",
   "execution_count": 14,
   "metadata": {},
   "outputs": [],
   "source": [
    "def generate_policies_two_split(price_low_bound, price_upper_bound, step_size):\n",
    "    policies = []\n",
    "    for i in range(price_low_bound, price_upper_bound, step_size):\n",
    "        for j in range(price_low_bound, price_upper_bound, step_size):\n",
    "            for k in range(8):\n",
    "                for l in range(7):\n",
    "                    policy = (i, j, k, l)\n",
    "                    policies.append(policy)\n",
    "    return policies"
   ]
  },
  {
   "cell_type": "code",
   "execution_count": 37,
   "metadata": {},
   "outputs": [],
   "source": [
    "policies = generate_policies_two_split(320, 530, 5)"
   ]
  },
  {
   "cell_type": "code",
   "execution_count": 38,
   "metadata": {},
   "outputs": [
    {
     "data": {
      "text/plain": [
       "98784"
      ]
     },
     "execution_count": 38,
     "metadata": {},
     "output_type": "execute_result"
    }
   ],
   "source": [
    "len(policies)"
   ]
  },
  {
   "cell_type": "code",
   "execution_count": 6,
   "metadata": {},
   "outputs": [],
   "source": [
    "def evaluate_policy(policy, data, best_buys):\n",
    "    bought = []\n",
    "    bought_cost_only = []\n",
    "    t1 = policy[0]\n",
    "    t2 = policy[1]\n",
    "    t3 = policy[2]\n",
    "    d1 = policy[3]\n",
    "    d2 = policy[4]\n",
    "    d3 = policy[5]\n",
    "    for trajectory in data:\n",
    "        for idx, cost in enumerate(trajectory):\n",
    "            local_cat = int(idx/5)\n",
    "            local_idx = int(idx%5)\n",
    "            if(idx == len(trajectory) - 1):\n",
    "                bought.append((cost, idx))\n",
    "                bought_cost_only.append(cost)\n",
    "                break\n",
    "            elif(local_cat == 0):\n",
    "                if(cost > t1 and local_idx < d1):\n",
    "                    continue\n",
    "                else: \n",
    "                    bought.append((cost, idx))\n",
    "                    bought_cost_only.append(cost)\n",
    "                    break\n",
    "            elif(local_cat == 1):\n",
    "                if(cost > t2 and local_idx < d2):\n",
    "                    continue\n",
    "                else: \n",
    "                    bought.append((cost, idx))\n",
    "                    bought_cost_only.append(cost)\n",
    "                    break\n",
    "            elif(local_cat == 2):\n",
    "                if(cost > t3 and local_idx < d3):\n",
    "                    continue\n",
    "                else: \n",
    "                    bought.append((cost, idx))\n",
    "                    bought_cost_only.append(cost)\n",
    "                    break\n",
    "    error = [a_i - b_i for a_i, b_i in zip(bought_cost_only, best_buys)]    \n",
    "    avg_error = sum(error)/len(data)\n",
    "    return avg_error"
   ]
  },
  {
   "cell_type": "code",
   "execution_count": 20,
   "metadata": {},
   "outputs": [],
   "source": [
    "def evaluate_policy_two_split(policy, data, best_buys):\n",
    "    bought = []\n",
    "    bought_cost_only = []\n",
    "    t1 = policy[0]\n",
    "    t2 = policy[1]\n",
    "    d1 = policy[2]\n",
    "    d2 = policy[3]\n",
    "    for trajectory in data:\n",
    "        for idx, cost in enumerate(trajectory):\n",
    "            if (idx<8):\n",
    "                local_idx = idx\n",
    "            else:\n",
    "                local_idx = idx-8\n",
    "            if(idx == len(trajectory) - 1):\n",
    "                bought.append((cost, idx))\n",
    "                bought_cost_only.append(cost)\n",
    "                break\n",
    "            elif(idx < 8):\n",
    "                if(cost > t1 and local_idx < d1):\n",
    "                    continue\n",
    "                else: \n",
    "                    bought.append((cost, idx))\n",
    "                    bought_cost_only.append(cost)\n",
    "                    break\n",
    "            elif(idx >= 8):\n",
    "                if(cost > t2 and local_idx < d2):\n",
    "                    continue\n",
    "                else: \n",
    "                    bought.append((cost, idx))\n",
    "                    bought_cost_only.append(cost)\n",
    "                    break\n",
    "            \n",
    "    error = [a_i - b_i for a_i, b_i in zip(bought_cost_only, best_buys)]    \n",
    "    avg_error = sum(error)/len(data)\n",
    "    return avg_error"
   ]
  },
  {
   "cell_type": "code",
   "execution_count": 7,
   "metadata": {},
   "outputs": [],
   "source": [
    "best_buy_250_train = [min(ele) for ele in trajectories_train_250]\n",
    "best_buy_250_test = [min(ele) for ele in trajectories_test_250]\n",
    "best_buy_500_train = [min(ele) for ele in trajectories_train_500]\n",
    "best_buy_500_test = [min(ele) for ele in trajectories_test_500]"
   ]
  },
  {
   "cell_type": "code",
   "execution_count": 54,
   "metadata": {},
   "outputs": [
    {
     "data": {
      "text/plain": [
       "17.2033"
      ]
     },
     "execution_count": 54,
     "metadata": {},
     "output_type": "execute_result"
    }
   ],
   "source": [
    "evaluate_policy((190, 210, 230, 5, 5, 3), trajectories_train_250, best_buy_250_train)"
   ]
  },
  {
   "cell_type": "code",
   "execution_count": 25,
   "metadata": {},
   "outputs": [
    {
     "data": {
      "text/plain": [
       "26.0888"
      ]
     },
     "execution_count": 25,
     "metadata": {},
     "output_type": "execute_result"
    }
   ],
   "source": [
    "evaluate_policy_two_split((210, 230, 7, 3), trajectories_train_250, best_buy_250_train)"
   ]
  },
  {
   "cell_type": "code",
   "execution_count": 26,
   "metadata": {},
   "outputs": [],
   "source": [
    "def policy_search(price_low_bound, price_upper_bound, data, best_buys):\n",
    "    all_errors = []\n",
    "    all_policies = generate_policies(price_low_bound, price_upper_bound)\n",
    "    for idx, policy in enumerate(all_policies):\n",
    "        policy_avg_error = evaluate_policy(policy, data, best_buys)\n",
    "        sys.stdout.flush()\n",
    "        sys.stdout.write(\"\\rProgress: {}/{}\".format(idx, len(all_policies)))\n",
    "        all_errors.append(policy_avg_error)\n",
    "    return(min(all_errors), all_policies[all_policies.index(min(all_errors))])"
   ]
  },
  {
   "cell_type": "code",
   "execution_count": 39,
   "metadata": {},
   "outputs": [],
   "source": [
    "def policy_search_two_split(price_low_bound, price_upper_bound, data, best_buys):\n",
    "    all_errors = []\n",
    "    all_policies = generate_policies_two_split(price_low_bound, price_upper_bound, 5)\n",
    "    for idx, policy in enumerate(all_policies):\n",
    "        policy_avg_error = evaluate_policy_two_split(policy, data, best_buys)\n",
    "        sys.stdout.flush()\n",
    "        sys.stdout.write(\"\\rProgress: {}/{}\".format(idx+1, len(all_policies)))\n",
    "        all_errors.append(policy_avg_error)\n",
    "    return(min(all_errors), all_policies[all_errors.index(min(all_errors))])"
   ]
  },
  {
   "cell_type": "code",
   "execution_count": 34,
   "metadata": {
    "scrolled": false
   },
   "outputs": [],
   "source": [
    "# optimal_policy = policy_search(160, 260, trajectories_train_250, best_buy_250_train)"
   ]
  },
  {
   "cell_type": "code",
   "execution_count": 40,
   "metadata": {},
   "outputs": [
    {
     "name": "stdout",
     "output_type": "stream",
     "text": [
      "Progress: 98784/98784"
     ]
    }
   ],
   "source": [
    "optimal_policy_500 = policy_search_two_split(320, 530, trajectories_train_500, best_buy_500_train)"
   ]
  },
  {
   "cell_type": "code",
   "execution_count": 41,
   "metadata": {},
   "outputs": [
    {
     "data": {
      "text/plain": [
       "(38.1196, (465, 320, 7, 0))"
      ]
     },
     "execution_count": 41,
     "metadata": {},
     "output_type": "execute_result"
    }
   ],
   "source": [
    "optimal_policy_500"
   ]
  },
  {
   "cell_type": "code",
   "execution_count": null,
   "metadata": {},
   "outputs": [],
   "source": []
  }
 ],
 "metadata": {
  "kernelspec": {
   "display_name": "Python 3",
   "language": "python",
   "name": "python3"
  },
  "language_info": {
   "codemirror_mode": {
    "name": "ipython",
    "version": 3
   },
   "file_extension": ".py",
   "mimetype": "text/x-python",
   "name": "python",
   "nbconvert_exporter": "python",
   "pygments_lexer": "ipython3",
   "version": "3.7.2"
  }
 },
 "nbformat": 4,
 "nbformat_minor": 2
}
