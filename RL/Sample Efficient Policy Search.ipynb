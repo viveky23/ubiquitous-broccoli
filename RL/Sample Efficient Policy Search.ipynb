{
 "cells": [
  {
   "cell_type": "code",
   "execution_count": 71,
   "metadata": {},
   "outputs": [],
   "source": [
    "from statistics import mean"
   ]
  },
  {
   "cell_type": "code",
   "execution_count": 72,
   "metadata": {},
   "outputs": [],
   "source": [
    "def generate_policies(price_range, days_range):\n",
    "    policies = []\n",
    "    for i in range(price_range, 5):\n",
    "        for j in range(days_range):\n",
    "            policy = (i, j)\n",
    "            policies.append(policy)\n",
    "    return policies"
   ]
  },
  {
   "cell_type": "code",
   "execution_count": 73,
   "metadata": {},
   "outputs": [],
   "source": [
    "def get_sample_returns(trajectories): \n",
    "    horizon = len(trajectories[0])\n",
    "    sample_returns = [[] for x in range(horizon)]\n",
    "    for trajectory in trajectories:\n",
    "        for i in range(len(trajectory)):\n",
    "            if trajectory[i] == 0:\n",
    "                continue\n",
    "            else:\n",
    "                days_left = horizon - i - 1\n",
    "                sample_returns[days_left].append(trajectory[i])\n",
    "    return sample_returns"
   ]
  },
  {
   "cell_type": "code",
   "execution_count": 100,
   "metadata": {},
   "outputs": [],
   "source": [
    "import random\n",
    "trajectories = []\n",
    "for i in range(2000):\n",
    "    trajectories.append(random.sample(range(300, 450), 60))\n",
    "train, test_data = trajectories[:1500], trajectories[1500:]"
   ]
  },
  {
   "cell_type": "code",
   "execution_count": 101,
   "metadata": {},
   "outputs": [],
   "source": [
    "def policy_search():\n",
    "    sample_returns = get_sample_returns(train)\n",
    "    sample_returns = [mean(x) for x in sample_returns]\n",
    "    return (min(sample_returns), sample_returns.index(min(sample_returns)))"
   ]
  },
  {
   "cell_type": "code",
   "execution_count": 102,
   "metadata": {},
   "outputs": [
    {
     "name": "stdout",
     "output_type": "stream",
     "text": [
      "(371.432, 15)\n"
     ]
    }
   ],
   "source": [
    "optimal_policy = policy_search()\n",
    "print(optimal_policy)"
   ]
  },
  {
   "cell_type": "code",
   "execution_count": 131,
   "metadata": {},
   "outputs": [],
   "source": [
    "def bought_and_best(test_data):\n",
    "    bought = []\n",
    "    best = []\n",
    "    for ele in test_data:\n",
    "        best_bet = (min(ele), 59 - ele.index(min(ele)))\n",
    "        best.append(best_bet)\n",
    "        for i in range(len(ele)):\n",
    "            if ele[i] == 0:\n",
    "                continue\n",
    "            else:\n",
    "                if(ele[i] > optimal_policy[0] and (59 - i) > optimal_policy[1]):\n",
    "                    continue\n",
    "                else:\n",
    "                    bought.append((ele[i], i))\n",
    "                    break\n",
    "    \n",
    "    return bought, best"
   ]
  },
  {
   "cell_type": "code",
   "execution_count": 132,
   "metadata": {},
   "outputs": [],
   "source": [
    "def test(test_data):\n",
    "    bought, best = bought_and_best(test_data)\n",
    "    diff = [] \n",
    "    for i in range(len(bought)):\n",
    "        bought_price = bought[i][0]\n",
    "        best_price = best[i][0]\n",
    "        diff.append(bought_price - best_price)\n",
    "    return(mean(diff))"
   ]
  },
  {
   "cell_type": "code",
   "execution_count": 133,
   "metadata": {},
   "outputs": [
    {
     "name": "stdout",
     "output_type": "stream",
     "text": [
      "35.41\n"
     ]
    }
   ],
   "source": [
    "diff = test(test_data)\n",
    "print(diff)"
   ]
  },
  {
   "cell_type": "code",
   "execution_count": null,
   "metadata": {},
   "outputs": [],
   "source": []
  }
 ],
 "metadata": {
  "kernelspec": {
   "display_name": "Python 3",
   "language": "python",
   "name": "python3"
  },
  "language_info": {
   "codemirror_mode": {
    "name": "ipython",
    "version": 3
   },
   "file_extension": ".py",
   "mimetype": "text/x-python",
   "name": "python",
   "nbconvert_exporter": "python",
   "pygments_lexer": "ipython3",
   "version": "3.7.2"
  }
 },
 "nbformat": 4,
 "nbformat_minor": 1
}
