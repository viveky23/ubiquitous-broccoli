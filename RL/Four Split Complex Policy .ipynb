{
 "cells": [
  {
   "cell_type": "code",
   "execution_count": 3,
   "metadata": {},
   "outputs": [],
   "source": [
    "import pickle\n",
    "from statistics import mean\n",
    "import numpy as np\n",
    "import sys"
   ]
  },
  {
   "cell_type": "code",
   "execution_count": 4,
   "metadata": {},
   "outputs": [],
   "source": [
    "file_name_train_250 = \"RL_trajectories_1000_250.pickle\"\n",
    "file_obj_train_250 = open(file_name_train_250, 'rb')\n",
    "trajectories_train_250 = pickle.load(file_obj_train_250)\n",
    "trajectories_train_250 = [list(ele) for ele in trajectories_train_250]\n",
    "\n",
    "file_name_test_250 = \"Human_trajectories_test_250.pickle\"\n",
    "file_obj_test_250 = open(file_name_test_250, 'rb')\n",
    "trajectories_test_250 = pickle.load(file_obj_test_250)\n",
    "trajectories_test_250 = [list(ele) for ele in trajectories_test_250]\n",
    "\n",
    "file_name_train_500 = \"RL_trajectories_1000_500.pickle\"\n",
    "file_obj_train_500 = open(file_name_train_500, 'rb')\n",
    "trajectories_train_500 = pickle.load(file_obj_train_500)\n",
    "trajectories_train_500 = [list(ele) for ele in trajectories_train_500]\n",
    "\n",
    "file_name_test_500 = \"Human_trajectories_test_500.pickle\"\n",
    "file_obj_test_500 = open(file_name_test_500, 'rb')\n",
    "trajectories_test_500 = pickle.load(file_obj_test_500)\n",
    "trajectories_test_500 = [list(ele) for ele in trajectories_test_500]\n",
    "\n",
    "test_size = 60"
   ]
  },
  {
   "cell_type": "code",
   "execution_count": 5,
   "metadata": {},
   "outputs": [],
   "source": [
    "def generate_policies(price_low_bound, price_upper_bound, step_size):\n",
    "    policies = []\n",
    "    for i in range(price_low_bound, price_upper_bound, step_size):\n",
    "        for j in range(price_low_bound, price_upper_bound, step_size):\n",
    "            for k in range(price_low_bound, price_upper_bound, step_size):\n",
    "                for l in range(price_low_bound, price_upper_bound, step_size):\n",
    "                    for m in range(4):\n",
    "                        for n in range(4):\n",
    "                            for o in range(4):\n",
    "                                for p in range(3):\n",
    "                                    policy = (i, j, k, l, m, n, o, p)\n",
    "                                    policies.append(policy)\n",
    "    return policies"
   ]
  },
  {
   "cell_type": "code",
   "execution_count": 6,
   "metadata": {},
   "outputs": [
    {
     "data": {
      "text/plain": [
       "120000"
      ]
     },
     "execution_count": 6,
     "metadata": {},
     "output_type": "execute_result"
    }
   ],
   "source": [
    "policies = generate_policies(190, 240, 10)\n",
    "len(policies)"
   ]
  },
  {
   "cell_type": "code",
   "execution_count": 7,
   "metadata": {},
   "outputs": [],
   "source": [
    "def evaluate_policy(policy, data, best_buys_cost, best_buys_idx, get_final_output):\n",
    "    if(len(policy)!=8):\n",
    "        raise ValueError(\"Number of parameters in this policy is \"+ str(len(policy))+\" when it should be 8\")\n",
    "    bought = []\n",
    "    bought_cost_only = []\n",
    "    bought_idx_only = []\n",
    "    t1 = policy[0]\n",
    "    t2 = policy[1]\n",
    "    t3 = policy[2]\n",
    "    t4 = policy[3]\n",
    "    d1 = policy[4]\n",
    "    d2 = policy[5]\n",
    "    d3 = policy[6]\n",
    "    d4 = policy[7]\n",
    "    for trajectory in data:\n",
    "        for idx, cost in enumerate(trajectory):\n",
    "            local_cat = int(idx/4)\n",
    "            local_idx = int(idx%4)\n",
    "            if(idx == len(trajectory) - 1):\n",
    "                bought.append((cost, idx))\n",
    "                bought_cost_only.append(cost)\n",
    "                bought_idx_only.append(idx)\n",
    "                break\n",
    "            elif(local_cat == 0):\n",
    "                if(cost > t1 and local_idx <= d1):\n",
    "                    continue\n",
    "                else: \n",
    "                    bought.append((cost, idx))\n",
    "                    bought_cost_only.append(cost)\n",
    "                    bought_idx_only.append(idx)\n",
    "                    break\n",
    "            elif(local_cat == 1):\n",
    "                if(cost > t2 and local_idx <= d2):\n",
    "                    continue\n",
    "                else: \n",
    "                    bought.append((cost, idx))\n",
    "                    bought_cost_only.append(cost)\n",
    "                    bought_idx_only.append(idx)\n",
    "                    break\n",
    "            elif(local_cat == 2):\n",
    "                if(cost > t3 and local_idx <= d3):\n",
    "                    continue\n",
    "                else: \n",
    "                    bought.append((cost, idx))\n",
    "                    bought_cost_only.append(cost)\n",
    "                    bought_idx_only.append(idx)\n",
    "                    break\n",
    "            elif(local_cat == 3):\n",
    "                if(cost > t4 and local_idx <= d4):\n",
    "                    continue\n",
    "                else: \n",
    "                    bought.append((cost, idx))\n",
    "                    bought_cost_only.append(cost)\n",
    "                    bought_idx_only.append(idx)\n",
    "                    break\n",
    "    error = [a_i - b_i for a_i, b_i in zip(bought_cost_only, best_buys_cost)]\n",
    "    correct_stops = (np.equal(bought_idx_only, best_buys_idx)).astype(int)\n",
    "    correct_stops = sum(correct_stops)\n",
    "    avg_error = sum(error)/len(data)\n",
    "    if(get_final_output):\n",
    "        return bought, avg_error, correct_stops\n",
    "    return avg_error, correct_stops"
   ]
  },
  {
   "cell_type": "code",
   "execution_count": 8,
   "metadata": {},
   "outputs": [],
   "source": [
    "##Cost\n",
    "best_buy_250_train = [min(ele) for ele in trajectories_train_250]\n",
    "best_buy_250_test = [min(ele) for ele in trajectories_test_250]\n",
    "best_buy_500_train = [min(ele) for ele in trajectories_train_500]\n",
    "best_buy_500_test = [min(ele) for ele in trajectories_test_500]\n",
    "\n",
    "##Indices\n",
    "best_buy_250_train_idx = [ele.index(min(ele)) for ele in trajectories_train_250]\n",
    "best_buy_250_test_idx = [ele.index(min(ele)) for ele in trajectories_test_250]\n",
    "best_buy_500_train_idx = [ele.index(min(ele)) for ele in trajectories_train_500]\n",
    "best_buy_500_test_idx = [ele.index(min(ele)) for ele in trajectories_test_500]"
   ]
  },
  {
   "cell_type": "code",
   "execution_count": 9,
   "metadata": {},
   "outputs": [],
   "source": [
    "def policy_search(price_low_bound, price_upper_bound, data, best_buys_cost, best_buys_idx):\n",
    "    all_errors = []\n",
    "    all_correct_stops = []\n",
    "    all_policies = generate_policies(price_low_bound, price_upper_bound, 10)\n",
    "    for idx, policy in enumerate(all_policies):\n",
    "        policy_avg_error, correct_stops = evaluate_policy(policy, data, best_buys_cost, best_buys_idx, False)\n",
    "        sys.stdout.flush()\n",
    "        sys.stdout.write(\"\\rPolicies Evaluated: {}/{}\".format(idx+1, len(all_policies)))\n",
    "        all_errors.append(policy_avg_error)\n",
    "        all_correct_stops.append(correct_stops)\n",
    "    optimal_policy_by_avg_error = (min(all_errors), all_policies[all_errors.index(min(all_errors))])\n",
    "    optimal_policy_by_opt_stop = (max(all_correct_stops), all_policies[all_correct_stops.index(max(all_correct_stops))])\n",
    "    return optimal_policy_by_avg_error, optimal_policy_by_opt_stop\n",
    "\n"
   ]
  },
  {
   "cell_type": "code",
   "execution_count": 22,
   "metadata": {},
   "outputs": [
    {
     "name": "stdout",
     "output_type": "stream",
     "text": [
      "Policies Evaluated: 120000/120000((10.891, (200, 210, 220, 230, 3, 3, 3, 1)), (577, (200, 200, 210, 210, 3, 3, 3, 1)))\n"
     ]
    },
    {
     "data": {
      "text/plain": [
       "(14.516666666666667, 28)"
      ]
     },
     "execution_count": 22,
     "metadata": {},
     "output_type": "execute_result"
    }
   ],
   "source": [
    "optimal_policy_250 = policy_search(190, 240, trajectories_train_250, best_buy_250_train, best_buy_250_train_idx)\n",
    "print(optimal_policy_250)\n",
    "evaluate_policy(optimal_policy_250[0][1], trajectories_test_250, best_buy_250_test, best_buy_250_test_idx)"
   ]
  },
  {
   "cell_type": "code",
   "execution_count": 10,
   "metadata": {},
   "outputs": [
    {
     "data": {
      "text/plain": [
       "(14.516666666666667, 28)"
      ]
     },
     "execution_count": 10,
     "metadata": {},
     "output_type": "execute_result"
    }
   ],
   "source": [
    "final_result_avg_250, avg_error, correct_stops = evaluate_policy(optimal_policy_250[0][1], \n",
    "                                                                 trajectories_test_250, \n",
    "                                                                 best_buy_250_test, \n",
    "                                                                 best_buy_250_test_idx, \n",
    "                                                                 True)\n",
    "avg_error, correct_stops"
   ]
  },
  {
   "cell_type": "code",
   "execution_count": 11,
   "metadata": {},
   "outputs": [
    {
     "data": {
      "text/plain": [
       "(21.583333333333332, 22)"
      ]
     },
     "execution_count": 11,
     "metadata": {},
     "output_type": "execute_result"
    }
   ],
   "source": [
    "final_result_opt_stop_250, avg_error, correct_stops = evaluate_policy(optimal_policy_250[1][1], \n",
    "                                                                 trajectories_test_250, \n",
    "                                                                 best_buy_250_test, \n",
    "                                                                 best_buy_250_test_idx, \n",
    "                                                                 True)\n",
    "avg_error, correct_stops"
   ]
  },
  {
   "cell_type": "code",
   "execution_count": 25,
   "metadata": {},
   "outputs": [
    {
     "name": "stdout",
     "output_type": "stream",
     "text": [
      "Policies Evaluated: 1578/1259712"
     ]
    },
    {
     "ename": "KeyboardInterrupt",
     "evalue": "",
     "output_type": "error",
     "traceback": [
      "\u001b[0;31m---------------------------------------------------------------------------\u001b[0m",
      "\u001b[0;31mKeyboardInterrupt\u001b[0m                         Traceback (most recent call last)",
      "\u001b[0;32m<ipython-input-25-98e9b6864c1c>\u001b[0m in \u001b[0;36m<module>\u001b[0;34m()\u001b[0m\n\u001b[0;32m----> 1\u001b[0;31m \u001b[0moptimal_policy_500\u001b[0m \u001b[0;34m=\u001b[0m \u001b[0mpolicy_search\u001b[0m\u001b[0;34m(\u001b[0m\u001b[0;36m390\u001b[0m\u001b[0;34m,\u001b[0m \u001b[0;36m480\u001b[0m\u001b[0;34m,\u001b[0m \u001b[0mtrajectories_train_500\u001b[0m\u001b[0;34m,\u001b[0m \u001b[0mbest_buy_500_train\u001b[0m\u001b[0;34m,\u001b[0m \u001b[0mbest_buy_500_train_idx\u001b[0m\u001b[0;34m)\u001b[0m\u001b[0;34m\u001b[0m\u001b[0m\n\u001b[0m\u001b[1;32m      2\u001b[0m \u001b[0mprint\u001b[0m\u001b[0;34m(\u001b[0m\u001b[0;34m\"\"\u001b[0m\u001b[0;34m)\u001b[0m\u001b[0;34m\u001b[0m\u001b[0m\n\u001b[1;32m      3\u001b[0m \u001b[0mprint\u001b[0m\u001b[0;34m(\u001b[0m\u001b[0moptimal_policy_500\u001b[0m\u001b[0;34m)\u001b[0m\u001b[0;34m\u001b[0m\u001b[0m\n\u001b[1;32m      4\u001b[0m \u001b[0mevaluate_policy\u001b[0m\u001b[0;34m(\u001b[0m\u001b[0moptimal_policy_500\u001b[0m\u001b[0;34m[\u001b[0m\u001b[0;36m0\u001b[0m\u001b[0;34m]\u001b[0m\u001b[0;34m[\u001b[0m\u001b[0;36m1\u001b[0m\u001b[0;34m]\u001b[0m\u001b[0;34m,\u001b[0m \u001b[0mtrajectories_test_500\u001b[0m\u001b[0;34m,\u001b[0m \u001b[0mbest_buy_500_test\u001b[0m\u001b[0;34m,\u001b[0m \u001b[0mbest_buy_500_test_idx\u001b[0m\u001b[0;34m)\u001b[0m\u001b[0;34m\u001b[0m\u001b[0m\n",
      "\u001b[0;32m<ipython-input-21-02b97e4422f6>\u001b[0m in \u001b[0;36mpolicy_search\u001b[0;34m(price_low_bound, price_upper_bound, data, best_buys_cost, best_buys_idx)\u001b[0m\n\u001b[1;32m      6\u001b[0m         \u001b[0mpolicy_avg_error\u001b[0m\u001b[0;34m,\u001b[0m \u001b[0mcorrect_stops\u001b[0m \u001b[0;34m=\u001b[0m \u001b[0mevaluate_policy\u001b[0m\u001b[0;34m(\u001b[0m\u001b[0mpolicy\u001b[0m\u001b[0;34m,\u001b[0m \u001b[0mdata\u001b[0m\u001b[0;34m,\u001b[0m \u001b[0mbest_buys_cost\u001b[0m\u001b[0;34m,\u001b[0m \u001b[0mbest_buys_idx\u001b[0m\u001b[0;34m)\u001b[0m\u001b[0;34m\u001b[0m\u001b[0m\n\u001b[1;32m      7\u001b[0m         \u001b[0msys\u001b[0m\u001b[0;34m.\u001b[0m\u001b[0mstdout\u001b[0m\u001b[0;34m.\u001b[0m\u001b[0mflush\u001b[0m\u001b[0;34m(\u001b[0m\u001b[0;34m)\u001b[0m\u001b[0;34m\u001b[0m\u001b[0m\n\u001b[0;32m----> 8\u001b[0;31m         \u001b[0msys\u001b[0m\u001b[0;34m.\u001b[0m\u001b[0mstdout\u001b[0m\u001b[0;34m.\u001b[0m\u001b[0mwrite\u001b[0m\u001b[0;34m(\u001b[0m\u001b[0;34m\"\\rPolicies Evaluated: {}/{}\"\u001b[0m\u001b[0;34m.\u001b[0m\u001b[0mformat\u001b[0m\u001b[0;34m(\u001b[0m\u001b[0midx\u001b[0m\u001b[0;34m+\u001b[0m\u001b[0;36m1\u001b[0m\u001b[0;34m,\u001b[0m \u001b[0mlen\u001b[0m\u001b[0;34m(\u001b[0m\u001b[0mall_policies\u001b[0m\u001b[0;34m)\u001b[0m\u001b[0;34m)\u001b[0m\u001b[0;34m)\u001b[0m\u001b[0;34m\u001b[0m\u001b[0m\n\u001b[0m\u001b[1;32m      9\u001b[0m         \u001b[0mall_errors\u001b[0m\u001b[0;34m.\u001b[0m\u001b[0mappend\u001b[0m\u001b[0;34m(\u001b[0m\u001b[0mpolicy_avg_error\u001b[0m\u001b[0;34m)\u001b[0m\u001b[0;34m\u001b[0m\u001b[0m\n\u001b[1;32m     10\u001b[0m         \u001b[0mall_correct_stops\u001b[0m\u001b[0;34m.\u001b[0m\u001b[0mappend\u001b[0m\u001b[0;34m(\u001b[0m\u001b[0mcorrect_stops\u001b[0m\u001b[0;34m)\u001b[0m\u001b[0;34m\u001b[0m\u001b[0m\n",
      "\u001b[0;32m/anaconda3/lib/python3.6/site-packages/ipykernel/iostream.py\u001b[0m in \u001b[0;36mwrite\u001b[0;34m(self, string)\u001b[0m\n\u001b[1;32m    382\u001b[0m                     \u001b[0mself\u001b[0m\u001b[0;34m.\u001b[0m\u001b[0mflush\u001b[0m\u001b[0;34m(\u001b[0m\u001b[0;34m)\u001b[0m\u001b[0;34m\u001b[0m\u001b[0m\n\u001b[1;32m    383\u001b[0m             \u001b[0;32melse\u001b[0m\u001b[0;34m:\u001b[0m\u001b[0;34m\u001b[0m\u001b[0m\n\u001b[0;32m--> 384\u001b[0;31m                 \u001b[0mself\u001b[0m\u001b[0;34m.\u001b[0m\u001b[0m_schedule_flush\u001b[0m\u001b[0;34m(\u001b[0m\u001b[0;34m)\u001b[0m\u001b[0;34m\u001b[0m\u001b[0m\n\u001b[0m\u001b[1;32m    385\u001b[0m \u001b[0;34m\u001b[0m\u001b[0m\n\u001b[1;32m    386\u001b[0m     \u001b[0;32mdef\u001b[0m \u001b[0mwritelines\u001b[0m\u001b[0;34m(\u001b[0m\u001b[0mself\u001b[0m\u001b[0;34m,\u001b[0m \u001b[0msequence\u001b[0m\u001b[0;34m)\u001b[0m\u001b[0;34m:\u001b[0m\u001b[0;34m\u001b[0m\u001b[0m\n",
      "\u001b[0;32m/anaconda3/lib/python3.6/site-packages/ipykernel/iostream.py\u001b[0m in \u001b[0;36m_schedule_flush\u001b[0;34m(self)\u001b[0m\n\u001b[1;32m    323\u001b[0m         \u001b[0;32mdef\u001b[0m \u001b[0m_schedule_in_thread\u001b[0m\u001b[0;34m(\u001b[0m\u001b[0;34m)\u001b[0m\u001b[0;34m:\u001b[0m\u001b[0;34m\u001b[0m\u001b[0m\n\u001b[1;32m    324\u001b[0m             \u001b[0mself\u001b[0m\u001b[0;34m.\u001b[0m\u001b[0m_io_loop\u001b[0m\u001b[0;34m.\u001b[0m\u001b[0mcall_later\u001b[0m\u001b[0;34m(\u001b[0m\u001b[0mself\u001b[0m\u001b[0;34m.\u001b[0m\u001b[0mflush_interval\u001b[0m\u001b[0;34m,\u001b[0m \u001b[0mself\u001b[0m\u001b[0;34m.\u001b[0m\u001b[0m_flush\u001b[0m\u001b[0;34m)\u001b[0m\u001b[0;34m\u001b[0m\u001b[0m\n\u001b[0;32m--> 325\u001b[0;31m         \u001b[0mself\u001b[0m\u001b[0;34m.\u001b[0m\u001b[0mpub_thread\u001b[0m\u001b[0;34m.\u001b[0m\u001b[0mschedule\u001b[0m\u001b[0;34m(\u001b[0m\u001b[0m_schedule_in_thread\u001b[0m\u001b[0;34m)\u001b[0m\u001b[0;34m\u001b[0m\u001b[0m\n\u001b[0m\u001b[1;32m    326\u001b[0m \u001b[0;34m\u001b[0m\u001b[0m\n\u001b[1;32m    327\u001b[0m     \u001b[0;32mdef\u001b[0m \u001b[0mflush\u001b[0m\u001b[0;34m(\u001b[0m\u001b[0mself\u001b[0m\u001b[0;34m)\u001b[0m\u001b[0;34m:\u001b[0m\u001b[0;34m\u001b[0m\u001b[0m\n",
      "\u001b[0;32m/anaconda3/lib/python3.6/site-packages/ipykernel/iostream.py\u001b[0m in \u001b[0;36mschedule\u001b[0;34m(self, f)\u001b[0m\n\u001b[1;32m    201\u001b[0m             \u001b[0mself\u001b[0m\u001b[0;34m.\u001b[0m\u001b[0m_events\u001b[0m\u001b[0;34m.\u001b[0m\u001b[0mappend\u001b[0m\u001b[0;34m(\u001b[0m\u001b[0mf\u001b[0m\u001b[0;34m)\u001b[0m\u001b[0;34m\u001b[0m\u001b[0m\n\u001b[1;32m    202\u001b[0m             \u001b[0;31m# wake event thread (message content is ignored)\u001b[0m\u001b[0;34m\u001b[0m\u001b[0;34m\u001b[0m\u001b[0m\n\u001b[0;32m--> 203\u001b[0;31m             \u001b[0mself\u001b[0m\u001b[0;34m.\u001b[0m\u001b[0m_event_pipe\u001b[0m\u001b[0;34m.\u001b[0m\u001b[0msend\u001b[0m\u001b[0;34m(\u001b[0m\u001b[0;34mb''\u001b[0m\u001b[0;34m)\u001b[0m\u001b[0;34m\u001b[0m\u001b[0m\n\u001b[0m\u001b[1;32m    204\u001b[0m         \u001b[0;32melse\u001b[0m\u001b[0;34m:\u001b[0m\u001b[0;34m\u001b[0m\u001b[0m\n\u001b[1;32m    205\u001b[0m             \u001b[0mf\u001b[0m\u001b[0;34m(\u001b[0m\u001b[0;34m)\u001b[0m\u001b[0;34m\u001b[0m\u001b[0m\n",
      "\u001b[0;32m/anaconda3/lib/python3.6/site-packages/zmq/sugar/socket.py\u001b[0m in \u001b[0;36msend\u001b[0;34m(self, data, flags, copy, track, routing_id, group)\u001b[0m\n\u001b[1;32m    390\u001b[0m                                  copy_threshold=self.copy_threshold)\n\u001b[1;32m    391\u001b[0m             \u001b[0mdata\u001b[0m\u001b[0;34m.\u001b[0m\u001b[0mgroup\u001b[0m \u001b[0;34m=\u001b[0m \u001b[0mgroup\u001b[0m\u001b[0;34m\u001b[0m\u001b[0m\n\u001b[0;32m--> 392\u001b[0;31m         \u001b[0;32mreturn\u001b[0m \u001b[0msuper\u001b[0m\u001b[0;34m(\u001b[0m\u001b[0mSocket\u001b[0m\u001b[0;34m,\u001b[0m \u001b[0mself\u001b[0m\u001b[0;34m)\u001b[0m\u001b[0;34m.\u001b[0m\u001b[0msend\u001b[0m\u001b[0;34m(\u001b[0m\u001b[0mdata\u001b[0m\u001b[0;34m,\u001b[0m \u001b[0mflags\u001b[0m\u001b[0;34m=\u001b[0m\u001b[0mflags\u001b[0m\u001b[0;34m,\u001b[0m \u001b[0mcopy\u001b[0m\u001b[0;34m=\u001b[0m\u001b[0mcopy\u001b[0m\u001b[0;34m,\u001b[0m \u001b[0mtrack\u001b[0m\u001b[0;34m=\u001b[0m\u001b[0mtrack\u001b[0m\u001b[0;34m)\u001b[0m\u001b[0;34m\u001b[0m\u001b[0m\n\u001b[0m\u001b[1;32m    393\u001b[0m \u001b[0;34m\u001b[0m\u001b[0m\n\u001b[1;32m    394\u001b[0m     \u001b[0;32mdef\u001b[0m \u001b[0msend_multipart\u001b[0m\u001b[0;34m(\u001b[0m\u001b[0mself\u001b[0m\u001b[0;34m,\u001b[0m \u001b[0mmsg_parts\u001b[0m\u001b[0;34m,\u001b[0m \u001b[0mflags\u001b[0m\u001b[0;34m=\u001b[0m\u001b[0;36m0\u001b[0m\u001b[0;34m,\u001b[0m \u001b[0mcopy\u001b[0m\u001b[0;34m=\u001b[0m\u001b[0;32mTrue\u001b[0m\u001b[0;34m,\u001b[0m \u001b[0mtrack\u001b[0m\u001b[0;34m=\u001b[0m\u001b[0;32mFalse\u001b[0m\u001b[0;34m,\u001b[0m \u001b[0;34m**\u001b[0m\u001b[0mkwargs\u001b[0m\u001b[0;34m)\u001b[0m\u001b[0;34m:\u001b[0m\u001b[0;34m\u001b[0m\u001b[0m\n",
      "\u001b[0;32mzmq/backend/cython/socket.pyx\u001b[0m in \u001b[0;36mzmq.backend.cython.socket.Socket.send\u001b[0;34m()\u001b[0m\n",
      "\u001b[0;32mzmq/backend/cython/socket.pyx\u001b[0m in \u001b[0;36mzmq.backend.cython.socket.Socket.send\u001b[0;34m()\u001b[0m\n",
      "\u001b[0;32mzmq/backend/cython/socket.pyx\u001b[0m in \u001b[0;36mzmq.backend.cython.socket._send_copy\u001b[0;34m()\u001b[0m\n",
      "\u001b[0;32m/anaconda3/lib/python3.6/site-packages/zmq/backend/cython/checkrc.pxd\u001b[0m in \u001b[0;36mzmq.backend.cython.checkrc._check_rc\u001b[0;34m()\u001b[0m\n",
      "\u001b[0;31mKeyboardInterrupt\u001b[0m: "
     ]
    }
   ],
   "source": [
    "optimal_policy_500 = policy_search(390, 480, trajectories_train_500, best_buy_500_train, best_buy_500_train_idx)\n",
    "print(\"\")\n",
    "print(optimal_policy_500)\n",
    "evaluate_policy(optimal_policy_500[0][1], trajectories_test_500, best_buy_500_test, best_buy_500_test_idx)"
   ]
  },
  {
   "cell_type": "code",
   "execution_count": null,
   "metadata": {},
   "outputs": [],
   "source": [
    "final_result_avg_500, avg_error, correct_stops = evaluate_policy(optimal_policy_500[0][1], \n",
    "                                                                 trajectories_test_500, \n",
    "                                                                 best_buy_500_test, \n",
    "                                                                 best_buy_500_test_idx, \n",
    "                                                                 True)\n",
    "avg_error, correct_stops"
   ]
  },
  {
   "cell_type": "code",
   "execution_count": null,
   "metadata": {},
   "outputs": [],
   "source": [
    "final_result_opt_stop_500, avg_error, correct_stops = evaluate_policy(optimal_policy_500[1][1], \n",
    "                                                                 trajectories_test_500, \n",
    "                                                                 best_buy_500_test, \n",
    "                                                                 best_buy_500_test_idx, \n",
    "                                                                 True)\n",
    "avg_error, correct_stops"
   ]
  },
  {
   "cell_type": "markdown",
   "metadata": {},
   "source": [
    "# Final Result"
   ]
  },
  {
   "cell_type": "code",
   "execution_count": null,
   "metadata": {},
   "outputs": [],
   "source": [
    "rl_four_split_avg = [final_result_avg_250, final_result_avg_500]\n",
    "rl_four_split_opt_stop = [final_result_opt_stop_250, final_result_opt_stop_500]"
   ]
  },
  {
   "cell_type": "code",
   "execution_count": 2,
   "metadata": {},
   "outputs": [],
   "source": [
    "def save_data(obj, filename):\n",
    "    final_file_object = open(filename, 'wb')\n",
    "    pickle.dump(obj, final_file_object)"
   ]
  },
  {
   "cell_type": "code",
   "execution_count": null,
   "metadata": {},
   "outputs": [],
   "source": [
    "save_data(rl_four_split_avg, \"rl_four_split_avg\")\n",
    "save_data(rl_four_split_opt_stop, \"rl_four_split_opt_stop\")"
   ]
  }
 ],
 "metadata": {
  "kernelspec": {
   "display_name": "Python 3",
   "language": "python",
   "name": "python3"
  },
  "language_info": {
   "codemirror_mode": {
    "name": "ipython",
    "version": 3
   },
   "file_extension": ".py",
   "mimetype": "text/x-python",
   "name": "python",
   "nbconvert_exporter": "python",
   "pygments_lexer": "ipython3",
   "version": "3.7.2"
  }
 },
 "nbformat": 4,
 "nbformat_minor": 2
}
