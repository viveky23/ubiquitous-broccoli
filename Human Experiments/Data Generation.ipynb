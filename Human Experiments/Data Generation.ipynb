{
 "cells": [
  {
   "cell_type": "code",
   "execution_count": 71,
   "metadata": {},
   "outputs": [],
   "source": [
    "import pickle\n",
    "import numpy as np\n",
    "import matplotlib.pyplot as plt"
   ]
  },
  {
   "cell_type": "code",
   "execution_count": 72,
   "metadata": {},
   "outputs": [],
   "source": [
    "# seed random number generator\n",
    "def seed_generator():\n",
    "\n",
    "    placeholder_scaling = np.random.normal(15, 5)\n",
    "    if placeholder_scaling < 3:\n",
    "        scaling = 3\n",
    "    else: scaling = placeholder_scaling\n",
    "    \n",
    "    placeholder_lamda = np.random.normal(7.5,3)\n",
    "    if placeholder_lamda < 1:\n",
    "        lamda = 1\n",
    "    else: lamda = placeholder_lamda\n",
    "    \n",
    "    placeholder_trajectory_length = np.round(np.random.normal(45,10))\n",
    "    if placeholder_trajectory_length > 60:\n",
    "        trajectory_length = 60\n",
    "    elif placeholder_trajectory_length < 30:\n",
    "            trajectory_length = 30\n",
    "    else: trajectory_length = placeholder_trajectory_length\n",
    "    \n",
    "    start_max = 60-trajectory_length\n",
    "    placeholder_start_date = np.round(np.random.normal((start_max)/2, (start_max)/6))\n",
    "    if placeholder_start_date > start_max:\n",
    "        start_date = start_max\n",
    "    elif placeholder_start_date < 0:\n",
    "            start_date = 0\n",
    "    else: start_date = placeholder_start_date\n",
    "    \n",
    "#     print(scaling, lamda, trajectory_length, start_date)\n",
    "    return(scaling, int(lamda), int(trajectory_length), int(start_date))"
   ]
  },
  {
   "cell_type": "code",
   "execution_count": 73,
   "metadata": {},
   "outputs": [],
   "source": [
    "# generate one trajectory\n",
    "def generate_trajectory():\n",
    "    scaling, lamda, trajectory_length, start_date = seed_generator()\n",
    "    placeholder_value = np.round(scaling * np.random.poisson(lamda, trajectory_length))\n",
    "    \n",
    "#     count, bins, ignored = plt.hist(placeholder_value, 30, density=True)\n",
    "#     plt.plot(bins, 1/(sigma * np.sqrt(2 * np.pi)) *\n",
    "#              np.exp( - (bins - mu)**2 / (2 * sigma**2) ),\n",
    "#              linewidth=2, color='r')\n",
    "#     plt.show()\n",
    "    \n",
    "    values = np.zeros(60)\n",
    "    for i in range(trajectory_length):\n",
    "        values[i+start_date] = placeholder_value[i]\n",
    "        \n",
    "    return values"
   ]
  },
  {
   "cell_type": "code",
   "execution_count": 77,
   "metadata": {},
   "outputs": [],
   "source": [
    "trajectories = []\n",
    "for i in range(5000):\n",
    "    trajectories.append(generate_trajectory())\n",
    "\n",
    "file_Name = \"trajectories.pickle\"\n",
    "fileObject = open(file_Name,'wb') \n",
    "pickle.dump(trajectories,fileObject)  \n",
    "fileObject.close()"
   ]
  },
  {
   "cell_type": "code",
   "execution_count": null,
   "metadata": {},
   "outputs": [],
   "source": []
  }
 ],
 "metadata": {
  "kernelspec": {
   "display_name": "FAST_AI",
   "language": "python",
   "name": "fastai"
  },
  "language_info": {
   "codemirror_mode": {
    "name": "ipython",
    "version": 3
   },
   "file_extension": ".py",
   "mimetype": "text/x-python",
   "name": "python",
   "nbconvert_exporter": "python",
   "pygments_lexer": "ipython3",
   "version": "3.6.8"
  }
 },
 "nbformat": 4,
 "nbformat_minor": 2
}
