{
 "cells": [
  {
   "cell_type": "code",
   "execution_count": 1,
   "metadata": {},
   "outputs": [],
   "source": [
    "import pickle\n",
    "import numpy as np\n",
    "import matplotlib.pyplot as plt"
   ]
  },
  {
   "cell_type": "code",
   "execution_count": 2,
   "metadata": {},
   "outputs": [],
   "source": [
    "# seed random number generator\n",
    "def seed_generator(length, price, traj=1):\n",
    "\n",
    "    placeholder_sigma = np.random.normal(price/10,5)\n",
    "    if placeholder_sigma < 5:\n",
    "        sigma = 5\n",
    "    else: sigma = placeholder_sigma\n",
    "    \n",
    "    placeholder_mu = np.random.normal(price,price/20)\n",
    "    if placeholder_mu < 100:\n",
    "        mu = 100\n",
    "    else: mu = placeholder_mu\n",
    "    \n",
    "    if traj == 1:\n",
    "        placeholder_trajectory_length = np.round(np.random.normal(0.75*length,10))\n",
    "        if placeholder_trajectory_length > length:\n",
    "            trajectory_length = length\n",
    "        elif placeholder_trajectory_length < 0.5*length:\n",
    "                trajectory_length = 30\n",
    "        else: trajectory_length = placeholder_trajectory_length\n",
    "    else: trajectory_length = length\n",
    "    \n",
    "    start_max = length-trajectory_length\n",
    "    placeholder_start_date = np.round(np.random.normal((start_max)/2, (start_max)/6))\n",
    "    if placeholder_start_date > start_max:\n",
    "        start_date = start_max\n",
    "    elif placeholder_start_date < 0:\n",
    "            start_date = 0\n",
    "    else: start_date = placeholder_start_date\n",
    "    \n",
    "    return(int(sigma), int(mu), int(trajectory_length), int(start_date))"
   ]
  },
  {
   "cell_type": "code",
   "execution_count": 3,
   "metadata": {},
   "outputs": [],
   "source": [
    "# generate one trajectory\n",
    "def generate_trajectory(length, price, traj = 1):\n",
    "    sigma, mu, trajectory_length, start_date = seed_generator(length, price, traj)\n",
    "    placeholder_value = np.round(np.random.normal(mu, sigma, trajectory_length))\n",
    "    \n",
    "#     count, bins, ignored = plt.hist(placeholder_value, 30, density=True)\n",
    "#     plt.plot(bins, 1/(sigma * np.sqrt(2 * np.pi)) *\n",
    "#              np.exp( - (bins - mu)**2 / (2 * sigma**2) ),\n",
    "#              linewidth=2, color='r')\n",
    "#     plt.show()\n",
    "    \n",
    "    values = np.zeros(length)\n",
    "    for i in range(trajectory_length):\n",
    "        values[i+start_date] = placeholder_value[i]\n",
    "        \n",
    "    return values"
   ]
  },
  {
   "cell_type": "code",
   "execution_count": 4,
   "metadata": {},
   "outputs": [],
   "source": [
    "filenames = [(\"Data/RL_trajectories_150.pickle\",150), (\"Data/RL_trajectories_250.pickle\",250), \n",
    "             (\"Data/RL_trajectories_350.pickle\",350), (\"Data/RL_trajectories_500.pickle\",500),\n",
    "             (\"Data/RL_trajectories_700.pickle\",700),]\n",
    "for file_name,price in filenames:\n",
    "    RL_trajectories = []\n",
    "    for i in range(5000):\n",
    "        RL_trajectories.append(generate_trajectory(60, price, 1))\n",
    "\n",
    "    fileObject = open(file_name,'wb') \n",
    "    pickle.dump(RL_trajectories,fileObject)  \n",
    "    fileObject.close()"
   ]
  },
  {
   "cell_type": "code",
   "execution_count": 5,
   "metadata": {},
   "outputs": [],
   "source": [
    "filenames = [(\"Data/Human_trajectories_150.pickle\",150), (\"Data/Human_trajectories_250.pickle\",250), \n",
    "             (\"Data/Human_trajectories_350.pickle\",350), (\"Data/Human_trajectories_500.pickle\",500),\n",
    "             (\"Data/Human_trajectories_700.pickle\",700),]\n",
    "for file_name,price in filenames:\n",
    "    human_trajectories = []\n",
    "    for i in range(35):\n",
    "        human_trajectories.append(generate_trajectory(15, price, 2))\n",
    "\n",
    "    fileObject = open(file_name,'wb') \n",
    "    pickle.dump(human_trajectories,fileObject)  \n",
    "    fileObject.close()"
   ]
  },
  {
   "cell_type": "code",
   "execution_count": null,
   "metadata": {},
   "outputs": [],
   "source": []
  }
 ],
 "metadata": {
  "kernelspec": {
   "display_name": "FAST_AI",
   "language": "python",
   "name": "fastai"
  },
  "language_info": {
   "codemirror_mode": {
    "name": "ipython",
    "version": 3
   },
   "file_extension": ".py",
   "mimetype": "text/x-python",
   "name": "python",
   "nbconvert_exporter": "python",
   "pygments_lexer": "ipython3",
   "version": "3.6.8"
  }
 },
 "nbformat": 4,
 "nbformat_minor": 2
}
