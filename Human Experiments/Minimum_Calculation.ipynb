{
 "cells": [
  {
   "cell_type": "code",
   "execution_count": 1,
   "metadata": {},
   "outputs": [],
   "source": [
    "import numpy as np\n",
    "import pickle\n",
    "import matplotlib.pyplot as plt"
   ]
  },
  {
   "cell_type": "code",
   "execution_count": 4,
   "metadata": {},
   "outputs": [
    {
     "name": "stdout",
     "output_type": "stream",
     "text": [
      "Calculating minima . . .\n",
      "Task accomplished!\n"
     ]
    }
   ],
   "source": [
    "filenames_RL = [(\"Data/RL_trajectories_250.pickle\",250), (\"Data/RL_trajectories_500.pickle\",500)]\n",
    "filenames_human = [(\"Data/Human_trajectories_train_250.pickle\",250), \n",
    "                   (\"Data/Human_trajectories_train_500.pickle\",500), \n",
    "                   (\"Data/Human_trajectories_test_250.pickle\",250), \n",
    "                   (\"Data/Human_trajectories_test_500.pickle\",500)\n",
    "                  ]\n",
    "\n",
    "all_minima = []\n",
    "\n",
    "print(\"Calculating minima . . .\")\n",
    "\n",
    "for file_name, price in filenames_RL:\n",
    "    minima = []\n",
    "    fileObject = open(file_name,'rb')  \n",
    "    trials = pickle.load(fileObject)\n",
    "    \n",
    "    for trial in trials:\n",
    "        x = int(np.where(trial == min(trial))[0])\n",
    "        minima.append((min(trial), x))\n",
    "    \n",
    "    all_minima.append(minima)\n",
    "    fileObject.close()\n",
    "\n",
    "file_Name = \"Tests/RL_minimum.pickle\"\n",
    "fileObject = open(file_Name,'wb') \n",
    "pickle.dump(all_minima,fileObject)   \n",
    "fileObject.close()\n",
    "print(\"Task accomplished!\")"
   ]
  },
  {
   "cell_type": "code",
   "execution_count": 5,
   "metadata": {},
   "outputs": [
    {
     "data": {
      "image/png": "[encoded data removed]",
      "text/plain": [
       "<Figure size 432x288 with 1 Axes>"
      ]
     },
     "metadata": {
      "needs_background": "light"
     },
     "output_type": "display_data"
    },
    {
     "data": {
      "image/png": "[encoded data removed]",
      "text/plain": [
       "<Figure size 432x288 with 1 Axes>"
      ]
     },
     "metadata": {
      "needs_background": "light"
     },
     "output_type": "display_data"
    }
   ],
   "source": [
    "file_name = \"Tests/RL_minimum.pickle\"\n",
    "fileObject = open(file_name,'rb')  \n",
    "minima = pickle.load(fileObject)\n",
    "\n",
    "for minimum in minima:\n",
    "    num = [x[1] for x in minimum]\n",
    "    plt.hist(num, density=True, bins=15)\n",
    "    plt.xlabel('Position')\n",
    "    plt.ylabel('Probability')\n",
    "    plt.show()\n",
    "        "
   ]
  },
  {
   "cell_type": "code",
   "execution_count": null,
   "metadata": {},
   "outputs": [],
   "source": []
  }
 ],
 "metadata": {
  "kernelspec": {
   "display_name": "FAST_AI",
   "language": "python",
   "name": "fastai"
  },
  "language_info": {
   "codemirror_mode": {
    "name": "ipython",
    "version": 3
   },
   "file_extension": ".py",
   "mimetype": "text/x-python",
   "name": "python",
   "nbconvert_exporter": "python",
   "pygments_lexer": "ipython3",
   "version": "3.6.8"
  }
 },
 "nbformat": 4,
 "nbformat_minor": 2
}
