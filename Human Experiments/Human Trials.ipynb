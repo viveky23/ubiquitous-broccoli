{
 "cells": [
  {
   "cell_type": "code",
   "execution_count": 16,
   "metadata": {},
   "outputs": [],
   "source": [
    "from IPython.display import clear_output\n",
    "import numpy as np"
   ]
  },
  {
   "cell_type": "code",
   "execution_count": 17,
   "metadata": {},
   "outputs": [
    {
     "name": "stdout",
     "output_type": "stream",
     "text": [
      "[127, 500, 210]\n"
     ]
    }
   ],
   "source": [
    "trials = [[234, 123, 210, 125, 127], [500, 123, 210, 125, 127], [234, 123, 210, 125, 127]]\n",
    "selected = []\n",
    "\n",
    "for trial in trials:\n",
    "    for i in range(len(trial)):\n",
    "        print(trial[i])\n",
    "        halt = input('Halt (y)')\n",
    "        if halt == 'y' or i == len(trial)-1:\n",
    "            selected.append(trial[i])\n",
    "            j += 1\n",
    "            break\n",
    "        else:\n",
    "            continue\n",
    "    clear_output()"
   ]
  },
  {
   "cell_type": "code",
   "execution_count": null,
   "metadata": {},
   "outputs": [],
   "source": []
  }
 ],
 "metadata": {
  "kernelspec": {
   "display_name": "Python 3",
   "language": "python",
   "name": "python3"
  },
  "language_info": {
   "codemirror_mode": {
    "name": "ipython",
    "version": 3
   },
   "file_extension": ".py",
   "mimetype": "text/x-python",
   "name": "python",
   "nbconvert_exporter": "python",
   "pygments_lexer": "ipython3",
   "version": "3.7.2"
  }
 },
 "nbformat": 4,
 "nbformat_minor": 2
}
