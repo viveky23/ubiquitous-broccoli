{
 "cells": [
  {
   "cell_type": "code",
   "execution_count": 21,
   "metadata": {},
   "outputs": [],
   "source": [
    "from IPython.display import clear_output\n",
    "import numpy as np\n",
    "import pickle\n",
    "import matplotlib.pyplot as plt"
   ]
  },
  {
   "cell_type": "code",
   "execution_count": 22,
   "metadata": {},
   "outputs": [
    {
     "name": "stdout",
     "output_type": "stream",
     "text": [
      "Calculating minima . . .\n",
      "Task accomplished!\n"
     ]
    }
   ],
   "source": [
    "filenames = [(\"Data/Human_trajectories_250.pickle\",250), (\"Data/Human_trajectories_500.pickle\",500)]\n",
    "\n",
    "all_minima = []\n",
    "\n",
    "print(\"Calculating minima . . .\")\n",
    "\n",
    "for file_name, price in filenames:\n",
    "    minima = []\n",
    "    fileObject = open(file_name,'rb')  \n",
    "    trials = pickle.load(fileObject)\n",
    "    \n",
    "    for trial in trials:\n",
    "        x = int(np.where(trial == min(trial))[0])\n",
    "        minima.append((min(trial), x))\n",
    "    \n",
    "    all_minima.append(minima)\n",
    "    fileObject.close()\n",
    "\n",
    "file_Name = \"Tests/Human_minimum.pickle\"\n",
    "fileObject = open(file_Name,'wb') \n",
    "pickle.dump(all_minima,fileObject)   \n",
    "fileObject.close()\n",
    "print(\"Task accomplished!\")"
   ]
  },
  {
   "cell_type": "code",
   "execution_count": 17,
   "metadata": {},
   "outputs": [],
   "source": [
    "filenames = [(\"Data/Human_trajectories_250.pickle\",250), (\"Data/Human_trajectories_500.pickle\",500)]\n",
    "\n",
    "all_selected = []\n",
    "\n",
    "for file_name, price in filenames:\n",
    "    selected = []\n",
    "    fileObject = open(file_name,'rb')  \n",
    "    trials = pickle.load(fileObject)\n",
    "    current = []\n",
    "    j = 0\n",
    "\n",
    "    for trial in trials:\n",
    "        if j <= 25:\n",
    "            print(\"Flight costs: \",trial)\n",
    "            print(\"Minimum cost across trial: \", min(trial), \" At Index: \", np.where(trial == min(trial))[0]+1)\n",
    "            current.extend(trial)\n",
    "            j += 1\n",
    "            start = input('Next test')\n",
    "            if start == 'y':\n",
    "                clear_output()\n",
    "            else:\n",
    "                clear_output()\n",
    "        else:\n",
    "            print(\"Next Trajectory:\")\n",
    "            for i in range(len(trial)):\n",
    "                print(trial[i])\n",
    "                halt = input('Halt (y)')\n",
    "                if halt == 'y' or i == len(trial)-1:\n",
    "                    selected.append((trial[i],i))\n",
    "                    j += 1\n",
    "                    print(\"The Minimum cost across trial was: \", min(trial))\n",
    "                    cont = input('Next trial (y)')\n",
    "                    break\n",
    "                else:\n",
    "                    continue\n",
    "            clear_output()\n",
    "\n",
    "        if j == 25:\n",
    "            plt.hist(current, density=True, bins=50)\n",
    "            plt.xlabel('Cost of ticket')\n",
    "            plt.ylabel('Probability')\n",
    "            plt.show()\n",
    "            j += 1\n",
    "            start = input('Start trials (y)')\n",
    "            if start == 'y':\n",
    "                clear_output()\n",
    "            else:\n",
    "                clear_output()\n",
    "                \n",
    "    all_selected.append(selected)\n",
    "    fileObject.close()\n",
    "\n",
    "file_Name = \"Tests/test_2\"\n",
    "fileObject = open(file_Name,'wb') \n",
    "pickle.dump(all_selected,fileObject)   \n",
    "fileObject.close()"
   ]
  },
  {
   "cell_type": "code",
   "execution_count": 20,
   "metadata": {},
   "outputs": [
    {
     "name": "stdout",
     "output_type": "stream",
     "text": [
      "20\n"
     ]
    }
   ],
   "source": [
    "print(len(all_selected[0]))"
   ]
  }
 ],
 "metadata": {
  "kernelspec": {
   "display_name": "Python 3",
   "language": "python",
   "name": "python3"
  },
  "language_info": {
   "codemirror_mode": {
    "name": "ipython",
    "version": 3
   },
   "file_extension": ".py",
   "mimetype": "text/x-python",
   "name": "python",
   "nbconvert_exporter": "python",
   "pygments_lexer": "ipython3",
   "version": "3.7.2"
  }
 },
 "nbformat": 4,
 "nbformat_minor": 2
}
