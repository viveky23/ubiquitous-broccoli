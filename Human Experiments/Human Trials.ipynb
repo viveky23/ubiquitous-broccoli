{
 "cells": [
  {
   "cell_type": "code",
   "execution_count": 1,
   "metadata": {},
   "outputs": [],
   "source": [
    "from IPython.display import clear_output\n",
    "import numpy as np\n",
    "import pickle\n",
    "import matplotlib.pyplot as plt"
   ]
  },
  {
   "cell_type": "code",
   "execution_count": 22,
   "metadata": {},
   "outputs": [
    {
     "name": "stdout",
     "output_type": "stream",
     "text": [
      "Calculating minima . . .\n",
      "Task accomplished!\n"
     ]
    }
   ],
   "source": [
    "filenames = [(\"Data/Human_trajectories_250.pickle\",250), (\"Data/Human_trajectories_500.pickle\",500)]\n",
    "\n",
    "all_minima = []\n",
    "\n",
    "print(\"Calculating minima . . .\")\n",
    "\n",
    "for file_name, price in filenames:\n",
    "    minima = []\n",
    "    fileObject = open(file_name,'rb')  \n",
    "    trials = pickle.load(fileObject)\n",
    "    \n",
    "    for trial in trials:\n",
    "        x = int(np.where(trial == min(trial))[0])\n",
    "        minima.append((min(trial), x))\n",
    "    \n",
    "    all_minima.append(minima)\n",
    "    fileObject.close()\n",
    "\n",
    "file_Name = \"Tests/Human_minimum.pickle\"\n",
    "fileObject = open(file_Name,'wb') \n",
    "pickle.dump(all_minima,fileObject)   \n",
    "fileObject.close()\n",
    "print(\"Task accomplished!\")"
   ]
  },
  {
   "cell_type": "code",
   "execution_count": 4,
   "metadata": {},
   "outputs": [],
   "source": [
    "filenames = [(\"Data/Human_trajectories_250.pickle\",250), (\"Data/Human_trajectories_500.pickle\",500)]\n",
    "\n",
    "all_selected = []\n",
    "\n",
    "for file_name, price in filenames:\n",
    "    selected = []\n",
    "    fileObject = open(file_name,'rb')  \n",
    "    trials = pickle.load(fileObject)\n",
    "    current = []\n",
    "    j = 0\n",
    "\n",
    "    for trial in trials:\n",
    "        if j <= 25:\n",
    "            print(\"Flight costs: \",trial)\n",
    "            print(\"Minimum cost across trial: \", min(trial), \" At Index: \", np.where(trial == min(trial))[0]+1)\n",
    "            current.extend(trial)\n",
    "            j += 1\n",
    "            start = input('Next test')\n",
    "            if start == 'y':\n",
    "                clear_output()\n",
    "            else:\n",
    "                clear_output()\n",
    "        else:\n",
    "            print(\"Next Trajectory:\")\n",
    "            for i in range(len(trial)):\n",
    "                print(trial[i])\n",
    "                halt = input('Halt (y)')\n",
    "                if halt == 'y' or i == len(trial)-1:\n",
    "                    selected.append((trial[i],i))\n",
    "                    j += 1\n",
    "                    print(\"The Minimum cost across trial was: \", min(trial))\n",
    "                    cont = input('Next trial (y)')\n",
    "                    break\n",
    "                else:\n",
    "                    continue\n",
    "            clear_output()\n",
    "\n",
    "        if j == 25:\n",
    "            plt.hist(current, density=True, bins=50)\n",
    "            plt.xlabel('Cost of ticket')\n",
    "            plt.ylabel('Probability')\n",
    "            plt.show()\n",
    "            j += 1\n",
    "            start = input('Start trials (y)')\n",
    "            if start == 'y':\n",
    "                clear_output()\n",
    "            else:\n",
    "                clear_output()\n",
    "                \n",
    "    all_selected.append(selected)\n",
    "    fileObject.close()\n",
    "\n",
    "file_Name = \"Tests/test_4\"\n",
    "fileObject = open(file_Name,'wb') \n",
    "pickle.dump(all_selected,fileObject)   \n",
    "fileObject.close()"
   ]
  },
  {
   "cell_type": "code",
   "execution_count": 5,
   "metadata": {},
   "outputs": [
    {
     "name": "stdout",
     "output_type": "stream",
     "text": [
      "[[(202.0, 5), (172.0, 4), (199.0, 13), (212.0, 10), (226.0, 0), (220.0, 13), (220.0, 4), (202.0, 13), (206.0, 7), (205.0, 10), (258.0, 14), (217.0, 9), (208.0, 14), (193.0, 4), (217.0, 1), (208.0, 3), (192.0, 7), (248.0, 14), (178.0, 6), (203.0, 2), (280.0, 14), (210.0, 13), (215.0, 0), (201.0, 2), (230.0, 12), (212.0, 0), (219.0, 5), (255.0, 14), (244.0, 6), (176.0, 2), (246.0, 10), (212.0, 8), (247.0, 14), (226.0, 6), (237.0, 13), (168.0, 5), (202.0, 3), (217.0, 3), (196.0, 0), (244.0, 14), (217.0, 5), (232.0, 3), (220.0, 4), (200.0, 4), (220.0, 14), (204.0, 0), (276.0, 14), (201.0, 14), (249.0, 14), (217.0, 4)], [(399.0, 2), (472.0, 8), (391.0, 2), (397.0, 1), (409.0, 5), (404.0, 4), (480.0, 12), (412.0, 8), (383.0, 12), (375.0, 4), (449.0, 12), (463.0, 13), (435.0, 2), (453.0, 6), (407.0, 5), (400.0, 3), (377.0, 4), (551.0, 14), (504.0, 7), (492.0, 5), (423.0, 9), (477.0, 4), (347.0, 0), (465.0, 6), (482.0, 10), (452.0, 6), (394.0, 4), (482.0, 7), (449.0, 6), (473.0, 8), (383.0, 5), (410.0, 7), (396.0, 13), (437.0, 4), (417.0, 5), (547.0, 14), (414.0, 4), (502.0, 9), (408.0, 5), (432.0, 4), (395.0, 0), (398.0, 1), (400.0, 10), (386.0, 8), (401.0, 1), (402.0, 4), (468.0, 8), (425.0, 12), (413.0, 6), (387.0, 3)]]\n"
     ]
    }
   ],
   "source": [
    "print(all_selected)"
   ]
  },
  {
   "cell_type": "code",
   "execution_count": null,
   "metadata": {},
   "outputs": [],
   "source": []
  }
 ],
 "metadata": {
  "kernelspec": {
   "display_name": "Python 3",
   "language": "python",
   "name": "python3"
  },
  "language_info": {
   "codemirror_mode": {
    "name": "ipython",
    "version": 3
   },
   "file_extension": ".py",
   "mimetype": "text/x-python",
   "name": "python",
   "nbconvert_exporter": "python",
   "pygments_lexer": "ipython3",
   "version": "3.7.2"
  }
 },
 "nbformat": 4,
 "nbformat_minor": 2
}
