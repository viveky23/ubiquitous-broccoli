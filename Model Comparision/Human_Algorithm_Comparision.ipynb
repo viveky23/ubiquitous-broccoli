{
 "cells": [
  {
   "cell_type": "code",
   "execution_count": 9,
   "metadata": {},
   "outputs": [],
   "source": [
    "import string as str\n",
    "import os\n",
    "import numpy as np\n",
    "import seaborn as sns\n",
    "import pandas as pd\n",
    "import math\n",
    "from random import random, randint, shuffle, uniform\n",
    "from scipy.optimize import fmin, brute\n",
    "import glob"
   ]
  },
  {
   "cell_type": "code",
   "execution_count": 10,
   "metadata": {},
   "outputs": [
    {
     "data": {
      "text/plain": [
       "<matplotlib.axes._subplots.AxesSubplot at 0x7f404e2c8ac8>"
      ]
     },
     "execution_count": 10,
     "metadata": {},
     "output_type": "execute_result"
    },
    {
     "data": {
      "image/png": "[encoded data removed]",
      "text/plain": [
       "<Figure size 432x288 with 1 Axes>"
      ]
     },
     "metadata": {
      "needs_background": "light"
     },
     "output_type": "display_data"
    }
   ],
   "source": [
    "df = pd.DataFrame({\"Stimulus Type\":['Prototype','Low','High','Random','Old'],\"Probability of Endorsement\":[0.91,0.76,0.5,0.27,0.79]})\n",
    "sns.barplot(x=\"Stimulus Type\",y=\"Probability of Endorsement\",data=df)"
   ]
  },
  {
   "cell_type": "code",
   "execution_count": 15,
   "metadata": {},
   "outputs": [],
   "source": [
    "def readfile(filename):\n",
    "    results = []\n",
    "    fileObject = open(filename,'rb')  \n",
    "    results = pickle.load(fileObject)\n",
    "    fileObject.close()\n",
    "    return results\n",
    "\n",
    "\n",
    "def get_all_filenames(directoryname):\n",
    "    txtfiles = []\n",
    "    for file in glob.glob(directoryname):\n",
    "        txtfiles.append(file)\n",
    "    return txtfiles"
   ]
  },
  {
   "cell_type": "code",
   "execution_count": null,
   "metadata": {},
   "outputs": [],
   "source": [
    "filenames = get_all_filenames('../Human Experiments/Tests/test*')\n",
    "\n",
    "human_250_sum = np.zeros(15)\n",
    "human_500_sum = np.zeros(15)\n",
    "\n",
    "for file_name in filenames:\n",
    "    selected = readfile(file_name)\n",
    "    for i, trajectory_type in enumerate(selected):\n",
    "        if i = 0:\n",
    "            human_250_sum = np.sum(human_250_sum, trajectory_type)\n",
    "        \n",
    "        "
   ]
  }
 ],
 "metadata": {
  "kernelspec": {
   "display_name": "FAST_AI",
   "language": "python",
   "name": "fastai"
  },
  "language_info": {
   "codemirror_mode": {
    "name": "ipython",
    "version": 3
   },
   "file_extension": ".py",
   "mimetype": "text/x-python",
   "name": "python",
   "nbconvert_exporter": "python",
   "pygments_lexer": "ipython3",
   "version": "3.6.8"
  }
 },
 "nbformat": 4,
 "nbformat_minor": 2
}
